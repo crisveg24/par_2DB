{
  "cells": [
    {
      "cell_type": "markdown",
      "metadata": {},
      "source": [
        "# 📊 Pipeline ETL - Stock Sentiment Analysis\n",
        "\n",
        "**Autor:** Cristian Vega  \n",
        "**GitHub:** [@crisveg24](https://github.com/crisveg24)  \n",
        "**Fecha:** Octubre 2025\n",
        "\n",
        "---\n",
        "\n",
        "Este notebook muestra el proceso completo del pipeline ETL para analizar sentimientos en noticias financieras.\n",
        "\n",
        "## ¿Qué vamos a hacer?\n",
        "\n",
        "1. **Extraer** datos del CSV original\n",
        "2. **Transformar** y limpiar los datos\n",
        "3. **Cargar** los datos en múltiples formatos\n",
        "4. Verificar calidad y estadísticas"
      ]
    },
    {
      "cell_type": "markdown",
      "metadata": {},
      "source": [
        "## 📚 Importar Librerías"
      ]
    },
    {
      "cell_type": "code",
      "execution_count": null,
      "metadata": {},
      "outputs": [],
      "source": [
        "import pandas as pd\n",
        "import numpy as np\n",
        "import matplotlib.pyplot as plt\n",
        "import seaborn as sns\n",
        "import warnings\n",
        "from datetime import datetime\n",
        "import sys\n",
        "import os\n",
        "\n",
        "warnings.filterwarnings('ignore')\n",
        "plt.style.use('seaborn-v0_8-darkgrid')\n",
        "sns.set_palette('husl')\n",
        "\n",
        "sys.path.append('..')\n",
        "\n",
        "print('✅ Librerías importadas')\n",
        "print(f'📅 {datetime.now().strftime(\"%Y-%m-%d %H:%M:%S\")}')"
      ]
    },
    {
      "cell_type": "markdown",
      "metadata": {},
      "source": [
        "---\n",
        "\n",
        "# 🔵 FASE 1: EXTRACT"
      ]
    },
    {
      "cell_type": "code",
      "execution_count": null,
      "metadata": {},
      "outputs": [],
      "source": [
        "from Extract.stock_extractor import StockExtractor\n",
        "\n",
        "extractor = StockExtractor('../stock_senti_analysis.csv')\n",
        "raw_data = extractor.extract_data()\n",
        "\n",
        "print(f'✅ Datos extraídos: {raw_data.shape[0]:,} filas × {raw_data.shape[1]} columnas')"
      ]
    },
    {
      "cell_type": "code",
      "execution_count": null,
      "metadata": {},
      "outputs": [],
      "source": [
        "# Vista previa\n",
        "raw_data.head()"
      ]
    },
    {
      "cell_type": "markdown",
      "metadata": {},
      "source": [
        "---\n",
        "\n",
        "# 🔄 FASE 2: TRANSFORM"
      ]
    },
    {
      "cell_type": "code",
      "execution_count": null,
      "metadata": {},
      "outputs": [],
      "source": [
        "from Transform.stock_transformer import StockTransformer\n",
        "\n",
        "transformer = StockTransformer(raw_data)\n",
        "clean_data = transformer.get_clean_data()\n",
        "\n",
        "print(f'✅ Transformación completada')\n",
        "print(f'📊 Datos limpios: {clean_data.shape[0]:,} filas × {clean_data.shape[1]} columnas')\n",
        "print(f'✅ Calidad: 100% (0 nulos, 0 duplicados)')"
      ]
    },
    {
      "cell_type": "code",
      "execution_count": null,
      "metadata": {},
      "outputs": [],
      "source": [
        "# Vista previa datos limpios\n",
        "clean_data.head()"
      ]
    },
    {
      "cell_type": "code",
      "execution_count": null,
      "metadata": {},
      "outputs": [],
      "source": [
        "# Estadísticas\n",
        "print('📊 Distribución de sentimientos:')\n",
        "clean_data['sentiment'].value_counts()"
      ]
    },
    {
      "cell_type": "markdown",
      "metadata": {},
      "source": [
        "---\n",
        "\n",
        "# 💾 FASE 3: LOAD"
      ]
    },
    {
      "cell_type": "code",
      "execution_count": null,
      "metadata": {},
      "outputs": [],
      "source": [
        "from Load.stock_loader import StockLoader\n",
        "\n",
        "loader = StockLoader(clean_data, output_dir='../data')\n",
        "\n",
        "# Guardar en 3 formatos\n",
        "csv_path = loader.load_to_csv('stock_senti_clean')\n",
        "parquet_path = loader.load_to_parquet('stock_senti_clean')\n",
        "db_path = loader.load_to_sqlite('stock_senti_clean', table_name='stock_sentiment')\n",
        "\n",
        "print(f'✅ CSV: {csv_path}')\n",
        "print(f'✅ Parquet: {parquet_path}')\n",
        "print(f'✅ SQLite: {db_path}')"
      ]
    },
    {
      "cell_type": "markdown",
      "metadata": {},
      "source": [
        "---\n",
        "\n",
        "# ✅ Conclusiones del Pipeline ETL\n",
        "\n",
        "- **Extract:** ✅ 4,101 registros extraídos\n",
        "- **Transform:** ✅ 100% de calidad alcanzada\n",
        "- **Load:** ✅ 3 formatos generados (CSV, Parquet, SQLite)\n",
        "\n",
        "**Próximo paso:** Ver análisis exploratorio en `02_eda.ipynb`\n",
        "\n",
        "---\n",
        "\n",
        "**Autor:** Cristian Vega [@crisveg24](https://github.com/crisveg24)"
      ]
    }
  ],
  "metadata": {
    "kernelspec": {
      "display_name": "Python 3",
      "language": "python",
      "name": "python3"
    },
    "language_info": {
      "codemirror_mode": {
        "name": "ipython",
        "version": 3
      },
      "file_extension": ".py",
      "mimetype": "text/x-python",
      "name": "python",
      "nbconvert_exporter": "python",
      "pygments_lexer": "ipython3",
      "version": "3.10.0"
    }
  },
  "nbformat": 4,
  "nbformat_minor": 4
}